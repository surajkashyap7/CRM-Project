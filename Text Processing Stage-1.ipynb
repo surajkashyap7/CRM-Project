{
 "cells": [
  {
   "cell_type": "code",
   "execution_count": 1,
   "metadata": {},
   "outputs": [],
   "source": [
    "import pandas as pd\n",
    "import numpy as np"
   ]
  },
  {
   "cell_type": "code",
   "execution_count": 2,
   "metadata": {},
   "outputs": [],
   "source": [
    "# pip install xlrd==1.2.0 ---> If excel file is not supported"
   ]
  },
  {
   "cell_type": "code",
   "execution_count": null,
   "metadata": {},
   "outputs": [],
   "source": [
    "import glob #to get the list of filenames\n",
    "\n",
    "PARENT_PATH=\"\"\n",
    "PATH_=os.path.join(PARENT_PATH,\"final_data\")\n",
    "# E:\\\\CRM Tools Project\\\\final_data\n",
    "\n",
    "def clean_data(path=None):\n",
    "    PATH_2=os.path.join(PARENT_PATH,DIR_)\n",
    "    files=glob.glob(os.path.join(PATH_,'*.xlsx'))\n",
    "    count=0\n",
    "    for file in files:\n",
    "        count+=1\n",
    "        data=pd.read_excel(file) #reading the excel file\n",
    "        \n",
    "        filename=file.split(\"\\\\\")[3].split(\".\")[0].lower()  #Getting the filename you can also use ```os.path.basename()```\n",
    "        Required_df=pd.DataFrame(data).drop(columns=[\"Unnamed: 0\",\"id\",\"displayName\",\"originalarrivaltime\",\"Slots\"])\n",
    "        Required_df[\"Intent\"].replace(Required_df[\"Intent\"],filename, inplace=True)\n",
    "        Required_df[\"Intent\"].replace(np.nan,filename, inplace=True)\n",
    "        \n",
    "        if not os.path.exists(PATH_2):\n",
    "            os.mkdir(PATH_2)\n",
    "        \n",
    "        print(f\"{count}. {filename}.csv created\")\n",
    "        Required_df.to_csv(os.path.join(PATH_2,filename+\".csv\"), index=False)\n",
    "    \n",
    "    print(f\"\\nMissing values filled\")\n",
    "    print(\"=========================================\")\n",
    "    print(f\"No. of new files created : {count} \")\n",
    "    print(f\"Location of files : {PATH_}\")\n",
    "\n",
    "if __name__=='__main__':\n",
    "    clean_data(path=PATH_)"
   ]
  },
  {
   "cell_type": "code",
   "execution_count": null,
   "metadata": {},
   "outputs": [],
   "source": [
    "PARENT_PATH=\"\"\n",
    "DIR_=\"\"\n",
    "\n",
    "PATH_2=os.path.join(PARENT_PATH,DIR_)\n",
    "def custom_isna(path=None):\n",
    "\n",
    "    files=glob.glob(os.path.join(path,'*.csv'))\n",
    "    count=0\n",
    "    for file in files:\n",
    "        count+=1\n",
    "        data=pd.read_csv(file)\n",
    "        filename=file.split(\"\\\\\")[3].split(\".\")[0]\n",
    "        filename=filename+\".csv\"\n",
    "        print(f\"Filename : {filename} Missing Values :\\n\\n{data.isna().sum()}\\n\")\n",
    "\n",
    "if __name__=='__main__':\n",
    "    custom_isna(path=PATH_2)"
   ]
  },
  {
   "cell_type": "code",
   "execution_count": null,
   "metadata": {},
   "outputs": [],
   "source": [
    "os.chdir(PATH_2)"
   ]
  },
  {
   "cell_type": "code",
   "execution_count": null,
   "metadata": {},
   "outputs": [],
   "source": [
    "# os.listdir()\n",
    "extension = 'csv'\n",
    "all_filenames = [i for i in glob.glob('*.{}'.format(extension))]\n",
    "#combine all files in the list\n",
    "combined_csv = pd.concat([pd.read_csv(f) for f in all_filenames ])\n",
    "#export to csv\n",
    "combined_csv.to_csv(\"merged_data/merged_data.csv\", index=False)"
   ]
  },
  {
   "cell_type": "code",
   "execution_count": null,
   "metadata": {},
   "outputs": [],
   "source": [
    "df=pd.read_csv(r\"E:\\CRM Tools Project\\cleaned_Data\\merged_data\\merged_data.csv\")\n",
    "df.drop(columns=\"Unnamed: 6\", inplace=True)\n",
    "df=df.drop_duplicates()\n",
    "df.shape\n",
    "len(df)"
   ]
  },
  {
   "cell_type": "code",
   "execution_count": null,
   "metadata": {},
   "outputs": [],
   "source": [
    "# Syntax --->  df[df['var1'].str.contains('A|B')] ----> For reference\n",
    "\n",
    "non_technical_keywords=[\"batch\",\"canvas\",\"availability\",\"career\",\"link\",\"internship\",\"challenge\",\"doubt\",\"blog\",\n",
    "          \"certificates\",\"course\",\"details\",\"detail\",\"dashboard\",\"greetings\",\"resume\",\"certificate\",\"thanks\",\n",
    "         \"user\",\"email\",\"zoom\",\"youtube\",\"newbatch\",\"registration\",\"job\",\"yes\",\"recordings\",\"call\",\"ahead\",\"video\"]\n",
    "\n",
    "patterns='|'.join(non_technical_keywords)\n",
    "patterns\n",
    "\n",
    "df['Type']=df['Intent'].str.contains(patterns)\n",
    "\n",
    "df['Type']=df['Type'].map({True:\"Non_Technical\",False:'Technical'})\n",
    "\n",
    "df.to_csv(\"tech_nontech_queries.csv\",index=False)"
   ]
  },
  {
   "cell_type": "code",
   "execution_count": null,
   "metadata": {},
   "outputs": [],
   "source": [
    "df.groupby('Type').count()\n",
    "group=df.groupby('Type')\n",
    "\n",
    "# for x,y in group:\n",
    "#     print(x)\n",
    "#     print(y)\n",
    "\n",
    "ndf=group.get_group('Technical') \n",
    "ig=ndf.groupby('Intent')\n",
    "\n",
    "ig.get_group('activation_function')"
   ]
  }
 ],
 "metadata": {
  "kernelspec": {
   "display_name": "Python 3",
   "language": "python",
   "name": "python3"
  },
  "language_info": {
   "codemirror_mode": {
    "name": "ipython",
    "version": 3
   },
   "file_extension": ".py",
   "mimetype": "text/x-python",
   "name": "python",
   "nbconvert_exporter": "python",
   "pygments_lexer": "ipython3",
   "version": "3.8.5"
  }
 },
 "nbformat": 4,
 "nbformat_minor": 4
}
